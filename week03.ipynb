{
 "cells": [
  {
   "cell_type": "markdown",
   "metadata": {},
   "source": [
    "# Week 3 worksheet: Conditional statements, more loops, and code review\n",
    "\n",
    "In this worksheet, we introduce conditional statements, another *control flow* tool, which allows us to specify *condition(s)* under which to execute certain parts of our code. We also present the `while` loop, and explore different ways to combine these structures to perform more elaborate computations.\n",
    "\n",
    "The best way to learn programming is to write code. Don't hesitate to edit the code in the example cells, or add your own code, to test your understanding. You will find practice exercises throughout the notebook, denoted by 🚩 ***Exercise $x$:***.\n",
    "\n",
    "#### Displaying solutions\n",
    "\n",
    "Solutions will be released at the end of each week, as a new `.txt` file in the same GitHub repository. After pulling the file to your computer:\n",
    "- **Run this cell** to enable widgets:"
   ]
  },
  {
   "cell_type": "code",
   "execution_count": null,
   "metadata": {},
   "outputs": [],
   "source": [
    "from show_solutions import show"
   ]
  },
  {
   "cell_type": "markdown",
   "metadata": {},
   "source": [
    "- **Run the cell below each question** to create clickable buttons under each exercise, which will allow you to reveal the solutions.\n",
    "\n",
    "---\n",
    "## Conditional statements\n",
    "\n",
    "Conditional statements allow us to create different branches in our code, to separate different instructions to be executed under specific conditions.\n",
    "\n",
    "### `if` statements\n",
    "\n",
    "Booleans can be used to execute or skip certain instructions under given conditions, using `if` statements. The syntax is as follows:\n",
    "```python\n",
    "if my_condition:\n",
    "    [some instructions]\n",
    "```\n",
    "where `my_condition` is a Boolean object whose value is either `True` or `False`. A few examples:"
   ]
  },
  {
   "cell_type": "code",
   "execution_count": null,
   "metadata": {},
   "outputs": [],
   "source": [
    "# Define some variables\n",
    "a = 4.3\n",
    "b = 5.1\n",
    "c = 'hello'\n",
    "i = 1\n",
    "j = 8\n",
    "z = True\n",
    "\n",
    "if i == j:\n",
    "    # This is not true -- any instructions\n",
    "    # in this block are ignored\n",
    "    print('i and j are equal')\n",
    "\n",
    "if i < j:\n",
    "    print('i is less than j')\n",
    "    \n",
    "if type(i) == int:\n",
    "    print('i is an integer')\n",
    "\n",
    "if type(c) == str and type(j) != float:\n",
    "    print('c is a string and j is not a float')\n",
    "\n",
    "if (a + b) > 7:\n",
    "    print(a + b)\n",
    "\n",
    "if z:\n",
    "    print(a)\n",
    "\n",
    "if j:\n",
    "    # Recall boolean casting in W1...\n",
    "    print('j is not zero nor empty')"
   ]
  },
  {
   "cell_type": "markdown",
   "metadata": {},
   "source": [
    "In the last example, although `j` does not point to a Boolean object, it is *interpreted* as a Boolean, because it follows the `if` keyword -- remember type-casting and duck-typing in Week 2. Non-zero numbers and non-empty containers are interpreted as `True`, whereas `0`, `0.0`, `None`, and empty containers (e.g. an empty list `[]` or an empty string `''`) are interpreted as `False`.\n",
    "\n",
    "### `if`-`elif`-`else` blocks\n",
    "\n",
    "To check multiple conditions one after another, we can use `if`-`elif`-`else` blocks (`elif` is short for \"else if\"). The syntax is\n",
    "```python\n",
    "if cond_1:\n",
    "    # [some instructions, executed if cond_1 is true]\n",
    "elif cond_2:\n",
    "    # [other instructions, executed if cond_1 is false,\n",
    "    # but cond_2 is true]\n",
    "else:\n",
    "    # [other instructions, executed if both cond_1 and cond_2\n",
    "    # are false]\n",
    "```\n",
    "Note, in particular, that the conditions in an `if`-`elif`-`else` block are checked in order, and **only one** branch is executed.\n",
    "\n",
    "Here is an example:"
   ]
  },
  {
   "cell_type": "code",
   "execution_count": null,
   "metadata": {},
   "outputs": [],
   "source": [
    "a = 4.9\n",
    "b = 5.4\n",
    "\n",
    "if a > b:\n",
    "    print('a is greater than b')\n",
    "elif a < b:\n",
    "    print('a is smaller than b')\n",
    "else:\n",
    "    print('a is equal to b')"
   ]
  },
  {
   "cell_type": "markdown",
   "metadata": {},
   "source": [
    "---\n",
    "**📚 Learn more:**\n",
    "* [More flow control tools - Python 3.7 documentation](https://docs.python.org/3/tutorial/controlflow.html)\n",
    "* [Boolean operations - Python 3.7 documentation](https://docs.python.org/3/reference/expressions.html#boolean-operations)\n",
    "\n",
    "---\n",
    "🚩 ***Exercise 1:*** The following code generates a random integer `n` between 1 and 1000. Complete the code such that running the cell displays a sentence indicating whether `n` is a multiple of both 3 and 7, either 3 or 7 (but not both), or neither.\n",
    "\n",
    "*Note: the generated random number will be different every time you run the cell. It is generated using [NumPy's random number functionality](https://numpy.org/doc/stable/reference/random/generated/numpy.random.Generator.integers.html#numpy.random.Generator.integers).*"
   ]
  },
  {
   "cell_type": "code",
   "execution_count": null,
   "metadata": {},
   "outputs": [],
   "source": [
    "import numpy as np\n",
    "\n",
    "rng = np.random.default_rng()\n",
    "n = rng.integers(1, 1001)\n",
    "\n"
   ]
  },
  {
   "cell_type": "code",
   "execution_count": null,
   "metadata": {
    "tags": [
     "solution_cell"
    ]
   },
   "outputs": [],
   "source": [
    "show('week03_ex1')"
   ]
  },
  {
   "cell_type": "markdown",
   "metadata": {},
   "source": [
    "---\n",
    "🚩 ***Exercise 2:*** Construct a loop over all words in the string `zen`. For each word:\n",
    "* if it contains an `e`, print the word.\n",
    "* if it does not contain an `e`, but contains an `i`, print the first character of the word.\n",
    "* if it does not contain an `e` nor an `i`, increment `count` by 1.\n",
    "\n",
    "*Notes:*\n",
    "- *You will first need to create a list of words from the string --- luckily, you should find a convenient [method](https://docs.python.org/3/library/stdtypes.html#string-methods) for this if you search the documentation.*\n",
    "- *The text is from the Zen of Python: https://www.python.org/dev/peps/pep-0020/*"
   ]
  },
  {
   "cell_type": "code",
   "execution_count": null,
   "metadata": {},
   "outputs": [],
   "source": [
    "zen = 'If the implementation is hard to explain, it is a bad idea. If the implementation is easy to explain, it may be a good idea.'\n",
    "count = 0\n",
    "\n"
   ]
  },
  {
   "cell_type": "code",
   "execution_count": null,
   "metadata": {
    "tags": [
     "solution_cell"
    ]
   },
   "outputs": [],
   "source": [
    "show('week03_ex2')"
   ]
  },
  {
   "cell_type": "markdown",
   "metadata": {},
   "source": [
    "---\n",
    "## `while` loops\n",
    "\n",
    "`while` loops are used to repeat a set of instructions *while* a given condition is true. The `while` statement does *not* use any placeholder variables; instead, it must be given a Boolean object (i.e., an expression which evaluates to either `True` or `False`). The syntax is as follows:\n",
    "```python\n",
    "while my_condition:\n",
    "    [some instructions]\n",
    "```\n",
    "where `my_condition` has type `bool`. The instructions in the loop are executed repeatedly, until `my_condition` evaluates to `False`, after which the loop terminates.\n",
    "\n",
    "For example, we can calculate the same sum $S$ as in Week 2, using a `while` loop:\n",
    "$$\n",
    "S = \\sum_{i=0}^{10} i\n",
    "$$"
   ]
  },
  {
   "cell_type": "code",
   "execution_count": null,
   "metadata": {},
   "outputs": [],
   "source": [
    "S = 0\n",
    "i = 0\n",
    "\n",
    "while i <= 10:\n",
    "    S += i\n",
    "    i += 1\n",
    "\n",
    "print(S)"
   ]
  },
  {
   "cell_type": "markdown",
   "metadata": {},
   "source": [
    "Let's break this down:\n",
    "\n",
    "- We start with assigning `S = 0`, as with the `for` loop. Here, because `while` loops don't assign the placeholder variable by themselves, we need to assign and increment `i` manually.\n",
    "\n",
    "- We get to the start of the loop, and the condition is checked. Since we start with `i = 0`, the expression `i <= 10` evaluates to `True`, and we can proceed with the first iteration. `i` is incremented by 1 inside the loop.\n",
    "\n",
    "- For the next iteration, `i = 1`, and `i <= 10` still evaluates to `True` -- we proceed again with the instructions in the loop.\n",
    "\n",
    "- The 11th iteration ends by assigning `i = 11`. Going back up to the `while` statement, the expression `i <= 10` now evaluates to `False`, and the loop terminates immediately.\n",
    "\n",
    "For this example, the `for` loop is clearly the better choice, as we already know how many iterations we need to complete the calculation.\n",
    "\n",
    "---\n",
    "**📚 Learn more:**\n",
    "* [First steps towards programming - The `while` loop - Python 3.7 documentation](https://docs.python.org/3/tutorial/introduction.html#first-steps-towards-programming)\n",
    "* [The `while` statement](https://docs.python.org/3/reference/compound_stmts.html#while)\n",
    "\n",
    "---\n",
    "🚩 ***Exercise 3:*** The Maclaurin series for the exponential function is\n",
    "\n",
    "$$\n",
    "e^x = \\sum_{n=0}^\\infty \\frac{x^n}{n!} = 1 + x + \\frac{x^2}{2!} + \\frac{x^3}{3!} + \\frac{x^4}{4!} + \\dots\n",
    "$$\n",
    "\n",
    "Using a `while` loop, find out how many terms of this series are needed to obtain an approximation of $e^1$ which is accurate to 6 significant digits.\n",
    "\n",
    "[The documentation for the `math` module](https://docs.python.org/3/library/math.html) may be helpful."
   ]
  },
  {
   "cell_type": "code",
   "execution_count": null,
   "metadata": {},
   "outputs": [],
   "source": []
  },
  {
   "cell_type": "code",
   "execution_count": null,
   "metadata": {
    "tags": [
     "solution_cell"
    ]
   },
   "outputs": [],
   "source": [
    "show('week03_ex3')"
   ]
  },
  {
   "cell_type": "markdown",
   "metadata": {},
   "source": [
    "---\n",
    "### The `break`  statement in loops\n",
    "\n",
    "Sometimes, we may wish to exit a loop early -- for example, when we try to find the first element in a list which matches a condition. Once we find the element, we don't want to keep looping through the rest of the list.\n",
    "\n",
    "The `break` statement can be used to exit a loop conditionally. Here is an example:"
   ]
  },
  {
   "cell_type": "code",
   "execution_count": null,
   "metadata": {},
   "outputs": [],
   "source": [
    "list_of_strings = ['hello', 'this', 'is', 'a', 'lot', 'of', 'text', 'in', 'a', 'list.']\n",
    "\n",
    "# Find and display the first word which starts with an i\n",
    "for word in list_of_strings:\n",
    "    if word[0] == 'i':\n",
    "        print(word)\n",
    "        break    # This stops the loop immediately"
   ]
  },
  {
   "cell_type": "markdown",
   "metadata": {},
   "source": [
    "---\n",
    "**Note:** It is easy to see that a `while` loop can potentially run forever. When this happens, in Jupyter/IPython, `In [*]:` will appear on the top left of the code cell -- click the square button on the toolbar above to interrupt the kernel.\n",
    "\n",
    "It is also usually a good idea to count iterations when using `while` loops, for instance by incrementing a counting variable at every iteration. To safeguard against infinite loops, you can then `break` the loop conditionally, for example if the counter exceeds some maximum number of iterations.\n",
    "\n",
    "---\n",
    "**📚 Learn more:**\n",
    "* [More flow control tools - Python 3.7 documentation](https://docs.python.org/3/tutorial/controlflow.html)\n",
    "* [`break` and `continue` statements, and `else` clauses on loops - Python 3.7 documentation](https://docs.python.org/3/tutorial/controlflow.html#break-and-continue-statements-and-else-clauses-on-loops)\n",
    "\n",
    "\n",
    "---\n",
    "🚩 ***Exercise 4:*** The following is an example of *nested loops*. Try to predict the displayed output, and run the cell to verify. How does `break` behave within nested loops?"
   ]
  },
  {
   "cell_type": "code",
   "execution_count": null,
   "metadata": {},
   "outputs": [],
   "source": [
    "count = 0\n",
    "\n",
    "for i in range(10):\n",
    "    for j in range(5):\n",
    "        count += 1\n",
    "        if count > 17:\n",
    "            break\n",
    "    print(count)"
   ]
  },
  {
   "cell_type": "code",
   "execution_count": null,
   "metadata": {
    "tags": [
     "solution_cell"
    ]
   },
   "outputs": [],
   "source": [
    "show('week03_ex4')"
   ]
  },
  {
   "cell_type": "markdown",
   "metadata": {},
   "source": [
    "---\n",
    "## Debugging and troubleshooting\n",
    "\n",
    "A **bug** is simply an error or a mistake in your code, which makes it fail and/or produce the wrong result. Debugging is the process of finding and correcting bugs, by inspecting the output of the code under carefully chosen inputs and conditions.\n",
    "\n",
    "### Errors and exceptions\n",
    "\n",
    "You have probably already encountered a few **runtime errors** -- this is when Python fails to run your code for any reason, and gives you a short message to explain what went wrong. It is essential to know how to interpret these to debug your code and troubleshoot problems.\n",
    "\n",
    "Here is an example of a runtime error -- run the cell below:"
   ]
  },
  {
   "cell_type": "code",
   "execution_count": null,
   "metadata": {},
   "outputs": [],
   "source": [
    "my_string = 'Hello world'\n",
    "if my_string[0] == 'H'\n",
    "    print(my_string)"
   ]
  },
  {
   "cell_type": "markdown",
   "metadata": {},
   "source": [
    "Can you spot the error?\n",
    "\n",
    "The first line of the error message indicates the *file* where the error happened -- this is useful when working on projects with many different Python scripts and custom modules, not so much for us here on Jupyter.\n",
    "\n",
    "Note that the **line number** also appears in the error message. You can see line numbers in Jupyter notebooks by clicking <kbd>View</kbd> > <kbd>Toggle Line Numbers</kbd> in the menu bar at the top of the page.\n",
    "\n",
    "The second line repeats the line where the error was detected, and we can check that this is indeed line 2 in our cell, as indicated previously.\n",
    "\n",
    "The third line only has a `^` character. This is simply an **arrow**, which indicates where the error was detected, on the line printed above. Here, the `^` sits just after the last character in the `if` statement; the colon `:` is missing.\n",
    "\n",
    "Finally, the very last line indicates two things:\n",
    "* the **type** of error -- here, a `SyntaxError`. Like everything else in Python, errors and exceptions are also objects with types.\n",
    "* the **error message**, -- here, `invalid syntax`. The error message tries to give you more specific information about what the issue is.\n",
    "\n",
    "*Syntax errors* are what they sound like -- usually typos. They are detected even before the code is executed. They occur when the code you wrote is not valid Python syntax; in the example above, as pointed out by the little arrow `^`, we forgot the colon `:` at the end of the `if` statement.\n",
    "\n",
    "### Built-in exception types\n",
    "\n",
    "Simply speaking, when an **error** is detected in your code, an **exception** is raised, which interrupts execution and gives you some information about what went wrong. There are many built-in exception types in Python -- here are some of the more commonly encountered ones, run the code cells to see an example of the corresponding error **trace**. Note that the offending line is usually printed with a few lines of context.\n",
    "\n",
    "* **`IndexError`**: a sequence subscript is out of range. For instance, here, we're trying to access `my_list[4]`, but `my_list` only has elements up to `my_list[3]`."
   ]
  },
  {
   "cell_type": "code",
   "execution_count": null,
   "metadata": {},
   "outputs": [],
   "source": [
    "my_list = [1, 2, 3, 4]\n",
    "print(my_list[4])"
   ]
  },
  {
   "cell_type": "markdown",
   "metadata": {},
   "source": [
    "* **`NameError`**: the variable referred to does not exist -- there is no box in memory with this label. This often comes up when you mistype a variable name."
   ]
  },
  {
   "cell_type": "code",
   "execution_count": null,
   "metadata": {},
   "outputs": [],
   "source": [
    "my_list = [1, 2, 3, 4]\n",
    "print(my_ist)"
   ]
  },
  {
   "cell_type": "markdown",
   "metadata": {},
   "source": [
    "* **`SyntaxError`**: the code is not syntactically correct --- it is not valid Python, so Python doesn't know how to interpret it."
   ]
  },
  {
   "cell_type": "code",
   "execution_count": null,
   "metadata": {},
   "outputs": [],
   "source": [
    "my_string = 'Hello world'\n",
    "if my_string[0] == 'H'\n",
    "    print(my_string)"
   ]
  },
  {
   "cell_type": "markdown",
   "metadata": {},
   "source": [
    "* **`TypeError`**: a *very* common error to see when learning Python! This means that an operation or a function is applied to an object of the wrong *type*. A few examples:"
   ]
  },
  {
   "cell_type": "code",
   "execution_count": null,
   "metadata": {},
   "outputs": [],
   "source": [
    "# Trying to index something that is not a sequence...\n",
    "my_int = 4\n",
    "print(my_int[2])"
   ]
  },
  {
   "cell_type": "code",
   "execution_count": null,
   "metadata": {},
   "outputs": [],
   "source": [
    "# Trying to multiply two lists together...\n",
    "my_list = [1, 2, 3, 4]\n",
    "my_other_list = [5, 6, 7]\n",
    "print(my_list * my_other_list)"
   ]
  },
  {
   "cell_type": "code",
   "execution_count": null,
   "metadata": {},
   "outputs": [],
   "source": [
    "# Trying to compute the square of a string...\n",
    "def my_func(x):\n",
    "    return x ** 2\n",
    "\n",
    "print(my_func('Why hello there'))"
   ]
  },
  {
   "cell_type": "markdown",
   "metadata": {},
   "source": [
    "* **`ValueError`**: raised when an operation or function is applied to an object with the right *type*, but an invalid *value*. For example, the `int()` function can cast a string to an integer, *if the string can be interpreted as a number*."
   ]
  },
  {
   "cell_type": "code",
   "execution_count": null,
   "metadata": {},
   "outputs": [],
   "source": [
    "a = int('432')    # all good\n",
    "b = int('hello')  # ValueError"
   ]
  },
  {
   "cell_type": "markdown",
   "metadata": {},
   "source": [
    "---\n",
    "🚩 ***Exercise:*** Try to come up with new code examples which trigger each of the above types of error."
   ]
  },
  {
   "cell_type": "code",
   "execution_count": null,
   "metadata": {},
   "outputs": [],
   "source": []
  },
  {
   "cell_type": "markdown",
   "metadata": {},
   "source": [
    "---\n",
    "### Testing\n",
    "\n",
    "When you write or review code, it's important to **test** it often and comprehensively. For instance, in the Coderunner quizzes, the tests are already there, and you write and correct your code until all the tests pass.\n",
    "\n",
    "It's important to test your code for **trivial cases**, for instance **small arrays** or **small numbers**, for which you already know what the result should be. Start off with something you know, and build from there: try trivial inputs and check that you get the correct output; then, try something slightly more complex; and keep iterating until you find the problem, or until you are sure that your code works as it should.\n",
    "\n",
    "A quick and easy way to test your code is to use `print()` commands, to instruct Python to show you some output or results at different stages.\n",
    "\n",
    "Here's an example: the function `find_divisors()` is supposed to find all the divisors of `n` in the list `nums`, but it doesn't work. The programmer or reviewer has added a few `print()` commands to figure out what is happening."
   ]
  },
  {
   "cell_type": "code",
   "execution_count": null,
   "metadata": {},
   "outputs": [],
   "source": [
    "def find_divisors(nums, n):\n",
    "    '''\n",
    "    Returns a list of all divisors of n\n",
    "    present in the list nums.\n",
    "    '''\n",
    "    divisors = []\n",
    "    for i in nums:\n",
    "        \n",
    "        print(f'Current number being tested is {i}.')\n",
    "        print(f'Is {i} a divisor of {n}?')\n",
    "        \n",
    "        # Check if n/i is an integer\n",
    "        print(f'{n} / {i} = {n / i}')\n",
    "        \n",
    "        if isinstance(n / i, int):\n",
    "            print(f'Yes, adding {n} to the list\\n')\n",
    "            divisors.append(n)\n",
    "        else:\n",
    "            print('No\\n')\n",
    "    \n",
    "    return divisors\n",
    "\n",
    "# Test example: result should be [1, 1, 1, 1] (no matter the choice of n)\n",
    "divisors = find_divisors([1, 1, 1, 1], 97)\n",
    "print(f'Result: {divisors}\\n')\n",
    "\n",
    "# Test example: result should be [1, 2, 3, 4, 6]\n",
    "# divisors = find_divisors([1, 2, 3, 4, 5, 6, 7, 8], 12)\n",
    "# print(f'Result: {divisors}\\n')"
   ]
  },
  {
   "cell_type": "markdown",
   "metadata": {},
   "source": [
    "---\n",
    "🚩 ***Exercise 5:*** Continue debugging the function `find_divisors()` in the cell above to find and solve the problems. After you find the problem and ensure the first test passes, make sure to write more tests to check that the function will work for any input.\n",
    "\n",
    "For example, what should the result be if `n` is a prime number? What about if `n` is smaller than all the numbers in the list?\n",
    "\n",
    "Once you've finished debugging and testing, you can remove all the helper `print()` statements and the tests. It's always a good idea to keep your code somewhere (you might find it useful later!), so don't delete it -- you could store it away somewhere, in another file, or just rewrite the cleaned-up function definition in another cell."
   ]
  },
  {
   "cell_type": "code",
   "execution_count": null,
   "metadata": {},
   "outputs": [],
   "source": []
  },
  {
   "cell_type": "code",
   "execution_count": null,
   "metadata": {
    "tags": [
     "solution_cell"
    ]
   },
   "outputs": [],
   "source": [
    "show('week03_ex5')"
   ]
  },
  {
   "cell_type": "markdown",
   "metadata": {},
   "source": [
    "---\n",
    "## Code review: the essentials\n",
    "\n",
    "Code review is an important part of the programming workflow, where one or more programmers review a piece of code written by someone else, give feedback to the author, and suggest improvements. The reviewers typically answer the following questions:\n",
    "\n",
    "- Is the code **easy to read** and to understand?\n",
    "- Are there any **bugs**? Does the code produce the intended result, without errors?\n",
    "- Could this code easily be **re-used** or adapted in other contexts?\n",
    "- Is the implementation **efficient**? Is there too much data stored in memory that we don't need? Is there another way to program this, which takes less time to compute?\n",
    "\n",
    "Of course, you should ask yourself these questions whenever you write code, even if it won't be peer-reviewed --- these are the keys to writing quality code.\n",
    "\n",
    "---\n",
    "### Code comments\n",
    "\n",
    "When writing code, it is *always* a good idea to annotate it with **comments** to explain what each step is doing. In Python, code comments start with a `#` character; anything on the same line after the `#` character is **ignored** by the Python interpreter.\n",
    "\n",
    "For example, here is a suitably commented piece of code:"
   ]
  },
  {
   "cell_type": "code",
   "execution_count": null,
   "metadata": {},
   "outputs": [],
   "source": [
    "# Create 2 integer variables a and b\n",
    "a = 4\n",
    "b = -8\n",
    "\n",
    "# Find out whether a divides b\n",
    "print(b % a == 0)"
   ]
  },
  {
   "cell_type": "markdown",
   "metadata": {},
   "source": [
    "Code comments are **essential**, not only if other people read your code (to help them understand what you are doing), but also for yourself! When coming back to a piece of code, even after just a few days, it can be surprisingly difficult to remember what you were doing by just reading the code -- having comments annotating your script is immensely helpful.\n",
    "\n",
    "From now on, all your work for this course (and beyond!) must be sufficiently commented. This means that any step in your code that is not trivial should be **explained** (not simply *described!*) by a brief code comment.\n",
    "\n",
    "---\n",
    "**Note:** while writing a *draft* piece of code and trying different approaches, instead of deleting obsolete or unneeded code, you can simply comment it out. This is an quick-and-easy way to ensure that you don't permanently delete working code by accident, and to keep incomplete or buggy code snippets around for later use.\n",
    "\n",
    "In Jupyter notebooks, Atom, and VSCode, select any code you'd like to comment out (or uncomment), and press <kbd>Ctrl</kbd>+<kbd>/</kbd> or <kbd>Cmd</kbd>+<kbd>/</kbd> to toggle code comments.\n",
    "\n",
    "---\n",
    "🚩 ***Exercise 6:*** Are these code comments useful for you to understand how the code works? If not, what is the problem with them, and how would you change them?"
   ]
  },
  {
   "cell_type": "code",
   "execution_count": null,
   "metadata": {},
   "outputs": [],
   "source": [
    "def fibonacci(n):\n",
    "    '''\n",
    "    Returns the Fibonacci sequence up to xn,\n",
    "    starting with x0 = 1, x1 = 1, as a list.\n",
    "    '''\n",
    "    # Set x as [1, 1]\n",
    "    x = [1, 1]\n",
    "    \n",
    "    # Loop over a range from 0 to n-2\n",
    "    for i in range(n-1):\n",
    "        # Append x[i] + x[i+1] to the list x\n",
    "        x.append(x[i] + x[i+1])\n",
    "    \n",
    "    # Return x\n",
    "    return x\n",
    "\n",
    "# Display fibonacci(5)\n",
    "print(fibonacci(5))"
   ]
  },
  {
   "cell_type": "code",
   "execution_count": null,
   "metadata": {
    "tags": [
     "solution_cell"
    ]
   },
   "outputs": [],
   "source": [
    "show('week03_ex6')"
   ]
  },
  {
   "cell_type": "markdown",
   "metadata": {},
   "source": [
    "---\n",
    "### Code style\n",
    "\n",
    "Generally, the structure, variable name, and commenting choices are referred to as the **style** of your code. Style is important for code readability, and for consistency when working as part of a team. You may wish to take a look at different style guides, such as e.g. [the official guide for Python developers](https://www.python.org/dev/peps/pep-0008).\n",
    "\n",
    "For the purpose of this course, don't worry too much about following these guidelines too strictly. The important points to take away is that your code should aim to be **easily readable**, and **consistently styled**.\n",
    "\n",
    "#### Whitespace\n",
    "\n",
    "One particular practice I would recommend to adhere to is featured in the [Whitespace in Expressions and Statements](https://www.python.org/dev/peps/pep-0008/#whitespace-in-expressions-and-statements) section of PEP-8. To summarise it:"
   ]
  },
  {
   "cell_type": "code",
   "execution_count": null,
   "metadata": {},
   "outputs": [],
   "source": [
    "import numpy as np\n",
    "\n",
    "#Some not very easily readable code...\n",
    "a=(np.sqrt(5))\n",
    "a +=2 *np.exp(4*np.pi)-np.sin (a**2)\n",
    "s='I am a string!'\n",
    "print(s[ 3 ])\n",
    "\n",
    "\n",
    "# A little better...\n",
    "a = np.sqrt(5)\n",
    "a += 2 * np.cos(4 * np.pi**2) - np.sin(a**2)\n",
    "\n",
    "s = 'I am a string!'\n",
    "print(s[3])"
   ]
  },
  {
   "cell_type": "markdown",
   "metadata": {},
   "source": [
    "#### Naming conventions\n",
    "\n",
    "When writing small, simple code snippets (like many of the examples you have seen so far in these worksheets), using single-letter variable or function names is usually OK. However, for more complex code, it is usually a better idea to name your variables in a way that keeps your code easily understandable.\n",
    "\n",
    "Take a look at the PEP-8 section on [variable names](https://www.python.org/dev/peps/pep-0008/#descriptive-naming-styles).\n",
    "\n",
    "---\n",
    "🚩 ***Exercise 7:*** The following code finds the roots of the quadratic polynomial $p(x) = ax^2 + bx + c$. However, the author wrote it in a hurry. What can you do to improve it?"
   ]
  },
  {
   "cell_type": "code",
   "execution_count": null,
   "metadata": {},
   "outputs": [],
   "source": [
    "a=2\n",
    "b=.5\n",
    "c=- 9\n",
    "\n",
    "import numpy\n",
    "x1=(-b-numpy.sqrt(b**2 -4*a*c)) / (2*a)\n",
    "x2=(-b+numpy.sqrt(b**2 -4*a*c)) / (2*a)\n",
    "a*x1**2+b*x1+c"
   ]
  },
  {
   "cell_type": "code",
   "execution_count": null,
   "metadata": {
    "tags": [
     "solution_cell"
    ]
   },
   "outputs": [],
   "source": [
    "show('week03_ex7')"
   ]
  },
  {
   "cell_type": "markdown",
   "metadata": {},
   "source": [
    "---\n",
    "## Standard input\n",
    "\n",
    "Sometimes, it's useful to ask a user to enter some input interactively. We do this with the `input()` function -- you have seen examples of this in the Quiz Q1 questions.\n",
    "\n",
    "`input()` takes a string as an argument, which will be displayed as a prompt. The user will be prompted to type a value and press Enter -- this value will be returned as a `str` by `input()`."
   ]
  },
  {
   "cell_type": "code",
   "execution_count": null,
   "metadata": {},
   "outputs": [],
   "source": [
    "# Ask user to enter a number, assign it to a variable\n",
    "your_number = input('Please enter a number and press Enter: ')\n",
    "print(your_number)\n",
    "print(type(your_number))"
   ]
  },
  {
   "cell_type": "markdown",
   "metadata": {},
   "source": [
    "If you are asking for numeric data, then you will need to *cast* the returned value to `int` or `float`."
   ]
  },
  {
   "cell_type": "code",
   "execution_count": null,
   "metadata": {},
   "outputs": [],
   "source": [
    "your_number = float(input('Please enter a number and press Enter: '))\n",
    "print(f'{your_number} divided by 3 is {your_number / 3}.')"
   ]
  },
  {
   "cell_type": "markdown",
   "metadata": {},
   "source": [
    "---\n",
    "🚩 ***Exercise 8:*** The following code generates a random integer `target` between 1 and 100. You will code a number-guessing game: ask the user for an initial guess, and tell them if it's too big, too small, or if they've guessed correctly. **Keep asking them to guess again** as long as they haven't found the number.\n",
    "\n",
    "*Hint:* you will need a `while` loop."
   ]
  },
  {
   "cell_type": "code",
   "execution_count": null,
   "metadata": {},
   "outputs": [],
   "source": [
    "import numpy as np\n",
    "\n",
    "rng = np.random.default_rng()\n",
    "target = rng.integers(1, 101)\n",
    "\n",
    "\n"
   ]
  },
  {
   "cell_type": "code",
   "execution_count": null,
   "metadata": {
    "tags": [
     "solution_cell"
    ]
   },
   "outputs": [],
   "source": [
    "show('week03_ex8')"
   ]
  }
 ],
 "metadata": {
  "kernelspec": {
   "display_name": "Python 3",
   "language": "python",
   "name": "python3"
  },
  "language_info": {
   "codemirror_mode": {
    "name": "ipython",
    "version": 3
   },
   "file_extension": ".py",
   "mimetype": "text/x-python",
   "name": "python",
   "nbconvert_exporter": "python",
   "pygments_lexer": "ipython3",
   "version": "3.7.6"
  }
 },
 "nbformat": 4,
 "nbformat_minor": 4
}
